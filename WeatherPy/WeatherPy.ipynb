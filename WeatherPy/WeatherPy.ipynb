{
 "cells": [
  {
   "cell_type": "markdown",
   "metadata": {},
   "source": [
    "# WeatherPy\n",
    "----\n",
    "\n",
    "#### Note\n",
    "* Instructions have been included for each segment. You do not have to follow them exactly, but they are included to help you think through the steps."
   ]
  },
  {
   "cell_type": "code",
   "execution_count": 23,
   "metadata": {
    "scrolled": true
   },
   "outputs": [
    {
     "data": {
      "text/plain": [
       "'../output_data/cities.csv'"
      ]
     },
     "execution_count": 23,
     "metadata": {},
     "output_type": "execute_result"
    }
   ],
   "source": [
    "# Dependencies and Setup\n",
    "import matplotlib.pyplot as plt\n",
    "import pandas as pd\n",
    "import numpy as np\n",
    "import requests\n",
    "import time\n",
    "from scipy.stats import linregress\n",
    "\n",
    "# Import API key\n",
    "from api_keys import weather_api_key\n",
    "\n",
    "# Incorporated citipy to determine city based on latitude and longitude\n",
    "from citipy import citipy\n",
    "\n",
    "# Output File (CSV)\n",
    "output_data_file = \"../output_data/cities.csv\"\n",
    "\n",
    "# Range of latitudes and longitudes\n",
    "lat_range = (-90, 90)\n",
    "lng_range = (-180, 180)\n",
    "output_data_file"
   ]
  },
  {
   "cell_type": "markdown",
   "metadata": {},
   "source": [
    "## Generate Cities List"
   ]
  },
  {
   "cell_type": "code",
   "execution_count": 10,
   "metadata": {},
   "outputs": [
    {
     "data": {
      "text/plain": [
       "653"
      ]
     },
     "execution_count": 10,
     "metadata": {},
     "output_type": "execute_result"
    }
   ],
   "source": [
    "# List for holding lat_lngs and cities\n",
    "lat_lngs = []\n",
    "cities = []\n",
    "\n",
    "# Create a set of random lat and lng combinations\n",
    "lats = np.random.uniform(lat_range[0], lat_range[1], size=1500)\n",
    "lngs = np.random.uniform(lng_range[0], lng_range[1], size=1500)\n",
    "lat_lngs = zip(lats, lngs)\n",
    "\n",
    "# Identify nearest city for each lat, lng combination\n",
    "for lat_lng in lat_lngs:\n",
    "    city = citipy.nearest_city(lat_lng[0], lat_lng[1]).city_name\n",
    "    \n",
    "    # If the city is unique, then add it to a our cities list\n",
    "    if city not in cities:\n",
    "        cities.append(city)\n",
    "\n",
    "# Print the city count to confirm sufficient count\n",
    "len(cities)\n"
   ]
  },
  {
   "cell_type": "markdown",
   "metadata": {},
   "source": [
    "### Perform API Calls\n",
    "* Perform a weather check on each city using a series of successive API calls.\n",
    "* Include a print log of each city as it'sbeing processed (with the city number and city name).\n"
   ]
  },
  {
   "cell_type": "code",
   "execution_count": 19,
   "metadata": {
    "scrolled": true
   },
   "outputs": [
    {
     "name": "stdout",
     "output_type": "stream",
     "text": [
      "Beginning Data Retrieval\n",
      "----------------------------------------\n",
      "Processing Record 1 | geraldton\n",
      "Processing Record 2 | jamestown\n",
      "Processing Record 3 | bengkulu\n",
      "Processing Record 4 | puerto ayora\n",
      "Processing Record 5 | rikitea\n",
      "City not found....skipping\n",
      "Processing Record 6 | port alfred\n",
      "Processing Record 7 | busselton\n",
      "Processing Record 8 | tuatapere\n",
      "Processing Record 9 | kapaa\n",
      "Processing Record 10 | ushuaia\n",
      "Processing Record 11 | egvekinot\n",
      "Processing Record 12 | waiouru\n",
      "Processing Record 13 | chokurdakh\n",
      "Processing Record 14 | luganville\n",
      "Processing Record 15 | kavaratti\n",
      "Processing Record 16 | tuktoyaktuk\n",
      "Processing Record 17 | boden\n",
      "Processing Record 18 | bereda\n",
      "Processing Record 19 | krasnokamensk\n",
      "Processing Record 20 | rincon\n",
      "Processing Record 21 | chuy\n",
      "Processing Record 22 | troitskoye\n",
      "Processing Record 23 | zaysan\n",
      "Processing Record 24 | lerwick\n",
      "Processing Record 25 | hermanus\n",
      "Processing Record 26 | novosil\n",
      "Processing Record 27 | beloha\n",
      "Processing Record 28 | mahebourg\n",
      "City not found....skipping\n",
      "Processing Record 29 | ibipeba\n",
      "Processing Record 30 | caluquembe\n",
      "Processing Record 31 | punta arenas\n",
      "Processing Record 32 | bluff\n",
      "Processing Record 33 | albany\n",
      "Processing Record 34 | aanekoski\n",
      "Processing Record 35 | tasiilaq\n",
      "Processing Record 36 | maniitsoq\n",
      "Processing Record 37 | pevek\n",
      "Processing Record 38 | qaanaaq\n",
      "Processing Record 39 | jerome\n",
      "City not found....skipping\n",
      "Processing Record 40 | bredasdorp\n",
      "Processing Record 41 | nikolskoye\n",
      "Processing Record 42 | mar del plata\n",
      "Processing Record 43 | ribeira grande\n",
      "Processing Record 44 | taltal\n",
      "Processing Record 45 | new norfolk\n",
      "Processing Record 46 | hamilton\n",
      "Processing Record 47 | mataura\n",
      "Processing Record 48 | cape town\n",
      "Processing Record 49 | rawson\n",
      "Processing Record 50 | sisimiut\n",
      "Processing Record 51 | los llanos de aridane\n",
      "Processing Record 52 | nagornskiy\n",
      "Processing Record 53 | butaritari\n",
      "Processing Record 54 | batagay\n",
      "Processing Record 55 | kyra\n",
      "Processing Record 56 | saskylakh\n",
      "Processing Record 57 | buctzotz\n",
      "Processing Record 58 | dikson\n",
      "Processing Record 59 | vammala\n",
      "Processing Record 60 | lebu\n",
      "Processing Record 61 | thompson\n",
      "Processing Record 62 | high level\n",
      "Processing Record 63 | isilkul\n",
      "Processing Record 64 | murakami\n",
      "Processing Record 65 | kavieng\n",
      "Processing Record 66 | kodiak\n",
      "Processing Record 67 | bathsheba\n",
      "Processing Record 68 | kholodnyy\n",
      "Processing Record 69 | mandalgovi\n",
      "Processing Record 70 | hithadhoo\n",
      "Processing Record 71 | ca mau\n",
      "Processing Record 72 | east london\n",
      "Processing Record 73 | khatanga\n",
      "Processing Record 74 | georgetown\n",
      "Processing Record 75 | letlhakeng\n",
      "Processing Record 76 | hilo\n",
      "Processing Record 77 | provideniya\n",
      "Processing Record 78 | olafsvik\n",
      "Processing Record 79 | carnarvon\n",
      "Processing Record 80 | pedernales\n",
      "Processing Record 81 | alofi\n",
      "Processing Record 82 | lompoc\n",
      "Processing Record 83 | vila\n",
      "Processing Record 84 | vaini\n",
      "Processing Record 85 | atuona\n",
      "Processing Record 86 | flinders\n",
      "Processing Record 87 | barrow\n",
      "Processing Record 88 | bambous virieux\n",
      "Processing Record 89 | aklavik\n",
      "Processing Record 90 | vila franca do campo\n",
      "Processing Record 91 | necochea\n",
      "Processing Record 92 | kropotkin\n",
      "Processing Record 93 | lagoa\n",
      "Processing Record 94 | itupiranga\n",
      "Processing Record 95 | vanimo\n",
      "Processing Record 96 | lira\n",
      "Processing Record 97 | saint-philippe\n",
      "City not found....skipping\n",
      "Processing Record 98 | kaohsiung\n",
      "Processing Record 99 | ponta do sol\n",
      "Processing Record 100 | marystown\n",
      "Processing Record 101 | panjakent\n",
      "Processing Record 102 | san cristobal\n",
      "Processing Record 103 | nizwa\n",
      "Processing Record 104 | biltine\n",
      "Processing Record 105 | anadyr\n",
      "Processing Record 106 | tayoltita\n",
      "Processing Record 107 | mount gambier\n",
      "Processing Record 108 | jacareacanga\n",
      "Processing Record 109 | caldwell\n",
      "Processing Record 110 | comodoro rivadavia\n",
      "Processing Record 111 | port augusta\n",
      "Processing Record 112 | rio grande\n",
      "City not found....skipping\n",
      "Processing Record 113 | zlynka\n",
      "Processing Record 114 | tralee\n",
      "Processing Record 115 | rocha\n",
      "Processing Record 116 | airai\n",
      "Processing Record 117 | asyut\n",
      "Processing Record 118 | winnemucca\n",
      "Processing Record 119 | vestmannaeyjar\n",
      "Processing Record 120 | yatou\n",
      "Processing Record 121 | wenatchee\n",
      "Processing Record 122 | murdochville\n",
      "Processing Record 123 | sitka\n",
      "Processing Record 124 | leh\n",
      "Processing Record 125 | inverness\n",
      "Processing Record 126 | khairagarh\n",
      "Processing Record 127 | lisakovsk\n",
      "Processing Record 128 | hasaki\n",
      "Processing Record 129 | cherskiy\n",
      "Processing Record 130 | rehli\n",
      "Processing Record 131 | redmond\n",
      "Processing Record 132 | kimbe\n",
      "Processing Record 133 | svetlyy\n",
      "Processing Record 134 | jumla\n",
      "Processing Record 135 | malatya\n",
      "Processing Record 136 | polunochnoye\n",
      "Processing Record 137 | hambantota\n",
      "Processing Record 138 | bhatkal\n",
      "Processing Record 139 | kahului\n",
      "Processing Record 140 | mongu\n",
      "Processing Record 141 | yulara\n",
      "Processing Record 142 | okhotsk\n",
      "Processing Record 143 | faanui\n",
      "Processing Record 144 | mareeba\n",
      "City not found....skipping\n",
      "Processing Record 145 | puerto escondido\n",
      "Processing Record 146 | luau\n",
      "Processing Record 147 | dunedin\n",
      "Processing Record 148 | pisco\n",
      "Processing Record 149 | upernavik\n",
      "Processing Record 150 | beyneu\n",
      "Processing Record 151 | kaitangata\n",
      "City not found....skipping\n",
      "Processing Record 152 | guerrero negro\n",
      "Processing Record 153 | pacific grove\n",
      "Processing Record 154 | ceske velenice\n",
      "Processing Record 155 | akyab\n",
      "Processing Record 156 | gondanglegi\n",
      "City not found....skipping\n",
      "Processing Record 157 | raudeberg\n",
      "Processing Record 158 | yongan\n",
      "Processing Record 159 | opuwo\n",
      "Processing Record 160 | chandur bazar\n",
      "Processing Record 161 | shellbrook\n",
      "Processing Record 162 | tokonou\n",
      "City not found....skipping\n",
      "Processing Record 163 | komsomolskiy\n",
      "Processing Record 164 | touros\n",
      "Processing Record 165 | bonthe\n",
      "Processing Record 166 | torbay\n",
      "Processing Record 167 | mitsamiouli\n",
      "Processing Record 168 | scarborough\n",
      "Processing Record 169 | wajima\n",
      "Processing Record 170 | cidreira\n",
      "Processing Record 171 | kununurra\n",
      "Processing Record 172 | tonekabon\n",
      "City not found....skipping\n",
      "City not found....skipping\n",
      "Processing Record 173 | cabo san lucas\n",
      "Processing Record 174 | victoria\n",
      "Processing Record 175 | kudahuvadhoo\n",
      "City not found....skipping\n",
      "Processing Record 176 | moron\n",
      "City not found....skipping\n",
      "Processing Record 177 | coxim\n",
      "Processing Record 178 | ilulissat\n",
      "Processing Record 179 | les cayes\n",
      "Processing Record 180 | tautira\n",
      "City not found....skipping\n",
      "Processing Record 181 | jurm\n",
      "Processing Record 182 | katsuura\n",
      "Processing Record 183 | aloleng\n",
      "Processing Record 184 | richards bay\n",
      "Processing Record 185 | vardo\n",
      "Processing Record 186 | pangai\n",
      "Processing Record 187 | ibra\n",
      "Processing Record 188 | bernalillo\n",
      "Processing Record 189 | berlevag\n",
      "Processing Record 190 | porto walter\n",
      "Processing Record 191 | santa lucia\n",
      "Processing Record 192 | pitimbu\n",
      "Processing Record 193 | westport\n",
      "Processing Record 194 | ambulu\n",
      "Processing Record 195 | mlonggo\n",
      "Processing Record 196 | konevo\n",
      "Processing Record 197 | sibu\n",
      "Processing Record 198 | sungaipenuh\n",
      "Processing Record 199 | maldonado\n",
      "Processing Record 200 | isiro\n",
      "Processing Record 201 | kijang\n",
      "Processing Record 202 | arona\n",
      "Processing Record 203 | elban\n",
      "Processing Record 204 | petropavlovsk-kamchatskiy\n",
      "Processing Record 205 | macia\n",
      "Processing Record 206 | esna\n",
      "Processing Record 207 | kruisfontein\n",
      "Processing Record 208 | zunyi\n",
      "Processing Record 209 | cayenne\n",
      "Processing Record 210 | saint-pierre\n",
      "Processing Record 211 | elizabeth city\n",
      "Processing Record 212 | walla walla\n",
      "Processing Record 213 | salalah\n",
      "Processing Record 214 | basco\n",
      "Processing Record 215 | lufkin\n",
      "Processing Record 216 | mweka\n",
      "Processing Record 217 | sao joao da barra\n",
      "Processing Record 218 | ulladulla\n",
      "Processing Record 219 | ko samui\n",
      "Processing Record 220 | ormara\n",
      "Processing Record 221 | molepolole\n",
      "City not found....skipping\n",
      "Processing Record 222 | ryotsu\n",
      "Processing Record 223 | kistelek\n",
      "Processing Record 224 | avarua\n",
      "Processing Record 225 | panzhihua\n",
      "Processing Record 226 | iranshahr\n",
      "City not found....skipping\n",
      "Processing Record 227 | bolu\n",
      "Processing Record 228 | santa rosa\n",
      "City not found....skipping\n",
      "Processing Record 229 | port blair\n",
      "Processing Record 230 | bulembu\n",
      "Processing Record 231 | vestmanna\n",
      "Processing Record 232 | muzhi\n",
      "Processing Record 233 | ostrovnoy\n",
      "Processing Record 234 | ilebo\n"
     ]
    },
    {
     "name": "stdout",
     "output_type": "stream",
     "text": [
      "Processing Record 235 | enumclaw\n",
      "Processing Record 236 | baruun-urt\n",
      "Processing Record 237 | tiarei\n",
      "Processing Record 238 | phibun mangsahan\n",
      "Processing Record 239 | dubrovnik\n",
      "Processing Record 240 | tolaga bay\n",
      "Processing Record 241 | creel\n",
      "Processing Record 242 | ceres\n",
      "Processing Record 243 | alice springs\n",
      "Processing Record 244 | tornio\n",
      "Processing Record 245 | clyde river\n",
      "Processing Record 246 | kloulklubed\n",
      "Processing Record 247 | nuzvid\n",
      "Processing Record 248 | mehamn\n",
      "Processing Record 249 | tessalit\n",
      "Processing Record 250 | riyadh\n",
      "Processing Record 251 | sao lourenco do sul\n",
      "Processing Record 252 | tual\n",
      "Processing Record 253 | caravelas\n",
      "Processing Record 254 | harper\n",
      "Processing Record 255 | beringovskiy\n",
      "Processing Record 256 | hobart\n",
      "Processing Record 257 | carballo\n",
      "Processing Record 258 | talnakh\n",
      "Processing Record 259 | eyl\n",
      "Processing Record 260 | stornoway\n",
      "Processing Record 261 | delmiro gouveia\n",
      "Processing Record 262 | isangel\n",
      "Processing Record 263 | roald\n",
      "Processing Record 264 | waipawa\n",
      "Processing Record 265 | college\n",
      "Processing Record 266 | qaqortoq\n",
      "Processing Record 267 | bethel\n",
      "Processing Record 268 | teberda\n",
      "Processing Record 269 | panaba\n",
      "Processing Record 270 | najran\n",
      "Processing Record 271 | tres arroyos\n",
      "Processing Record 272 | lasem\n",
      "City not found....skipping\n",
      "Processing Record 273 | taksimo\n",
      "Processing Record 274 | gasa\n",
      "Processing Record 275 | yellowknife\n",
      "Processing Record 276 | iquitos\n",
      "Processing Record 277 | sarh\n",
      "Processing Record 278 | sulphur springs\n",
      "City not found....skipping\n",
      "Processing Record 279 | calamar\n",
      "Processing Record 280 | marigot\n",
      "Processing Record 281 | betare oya\n",
      "Processing Record 282 | palana\n",
      "Processing Record 283 | viedma\n",
      "Processing Record 284 | coquimbo\n",
      "City not found....skipping\n",
      "Processing Record 285 | bonoua\n",
      "Processing Record 286 | longyearbyen\n",
      "Processing Record 287 | castro\n",
      "Processing Record 288 | coihaique\n",
      "Processing Record 289 | meadow lake\n",
      "Processing Record 290 | narsaq\n",
      "Processing Record 291 | nemuro\n",
      "Processing Record 292 | mirabad\n",
      "Processing Record 293 | soyo\n",
      "Processing Record 294 | san lucas\n",
      "Processing Record 295 | coahuayana\n",
      "Processing Record 296 | muros\n",
      "Processing Record 297 | san patricio\n",
      "Processing Record 298 | leningradskiy\n",
      "Processing Record 299 | majene\n",
      "Processing Record 300 | margate\n",
      "Processing Record 301 | dedougou\n",
      "Processing Record 302 | broken hill\n",
      "Processing Record 303 | west bay\n",
      "Processing Record 304 | talcahuano\n",
      "Processing Record 305 | bilibino\n",
      "Processing Record 306 | shawville\n",
      "Processing Record 307 | yar-sale\n",
      "Processing Record 308 | aguas vermelhas\n",
      "Processing Record 309 | poum\n",
      "Processing Record 310 | linxia\n",
      "Processing Record 311 | gladstone\n",
      "Processing Record 312 | souillac\n",
      "Processing Record 313 | nambucca heads\n",
      "Processing Record 314 | silvania\n",
      "Processing Record 315 | simbahan\n",
      "Processing Record 316 | tateyama\n",
      "Processing Record 317 | tiksi\n",
      "Processing Record 318 | pangody\n",
      "City not found....skipping\n",
      "Processing Record 319 | tabuk\n",
      "Processing Record 320 | port hardy\n",
      "Processing Record 321 | grand gaube\n",
      "Processing Record 322 | changping\n",
      "Processing Record 323 | ivanovka\n",
      "Processing Record 324 | college place\n",
      "City not found....skipping\n",
      "Processing Record 325 | norman wells\n",
      "Processing Record 326 | krasnoselkup\n",
      "Processing Record 327 | herat\n",
      "Processing Record 328 | zyryanka\n",
      "City not found....skipping\n",
      "Processing Record 329 | rehoboth\n",
      "Processing Record 330 | bahia blanca\n",
      "City not found....skipping\n",
      "Processing Record 331 | arraial do cabo\n",
      "Processing Record 332 | awjilah\n",
      "City not found....skipping\n",
      "Processing Record 333 | hoopstad\n",
      "Processing Record 334 | puertollano\n",
      "Processing Record 335 | carnot\n",
      "Processing Record 336 | buraydah\n",
      "Processing Record 337 | paramonga\n",
      "Processing Record 338 | san quintin\n",
      "Processing Record 339 | lengshuitan\n",
      "Processing Record 340 | zhigansk\n",
      "Processing Record 341 | shimoda\n",
      "Processing Record 342 | shingu\n",
      "Processing Record 343 | chardara\n",
      "Processing Record 344 | ati\n",
      "Processing Record 345 | severo-kurilsk\n",
      "Processing Record 346 | riohacha\n",
      "Processing Record 347 | acapulco\n",
      "Processing Record 348 | kisanga\n",
      "Processing Record 349 | aiquile\n",
      "Processing Record 350 | burnie\n",
      "Processing Record 351 | valparaiso\n",
      "Processing Record 352 | port elizabeth\n",
      "Processing Record 353 | samarai\n",
      "Processing Record 354 | chebsara\n",
      "Processing Record 355 | dabat\n",
      "City not found....skipping\n",
      "Processing Record 356 | shimsk\n",
      "Processing Record 357 | codrington\n",
      "Processing Record 358 | susanville\n",
      "City not found....skipping\n",
      "Processing Record 359 | yerbogachen\n",
      "Processing Record 360 | lakota\n",
      "Processing Record 361 | veraval\n",
      "Processing Record 362 | sibolga\n",
      "Processing Record 363 | sao filipe\n",
      "Processing Record 364 | kirakira\n",
      "Processing Record 365 | wewak\n",
      "Processing Record 366 | bosaso\n",
      "Processing Record 367 | koundara\n",
      "Processing Record 368 | tabou\n",
      "City not found....skipping\n",
      "Processing Record 369 | vuktyl\n",
      "Processing Record 370 | sorland\n",
      "Processing Record 371 | tahta\n",
      "Processing Record 372 | esterhazy\n",
      "City not found....skipping\n",
      "Processing Record 373 | gat\n",
      "Processing Record 374 | dubbo\n",
      "Processing Record 375 | ostersund\n",
      "Processing Record 376 | mossendjo\n",
      "Processing Record 377 | novoagansk\n",
      "Processing Record 378 | nefteyugansk\n",
      "Processing Record 379 | ust-kulom\n",
      "Processing Record 380 | eureka\n",
      "Processing Record 381 | prainha\n",
      "Processing Record 382 | hay river\n",
      "Processing Record 383 | paamiut\n",
      "Processing Record 384 | urusha\n",
      "Processing Record 385 | skelleftea\n",
      "Processing Record 386 | kidal\n",
      "Processing Record 387 | victor harbor\n",
      "Processing Record 388 | san luis\n",
      "Processing Record 389 | ranong\n",
      "City not found....skipping\n",
      "Processing Record 390 | anchorage\n",
      "Processing Record 391 | kutum\n",
      "Processing Record 392 | vila velha\n",
      "Processing Record 393 | pytalovo\n",
      "Processing Record 394 | tilichiki\n",
      "City not found....skipping\n",
      "Processing Record 395 | cockburn town\n",
      "City not found....skipping\n",
      "Processing Record 396 | batagay-alyta\n",
      "Processing Record 397 | manga\n",
      "Processing Record 398 | saint george\n",
      "Processing Record 399 | payo\n",
      "City not found....skipping\n",
      "Processing Record 400 | channel-port aux basques\n",
      "Processing Record 401 | pervomayskiy\n",
      "Processing Record 402 | keetmanshoop\n",
      "Processing Record 403 | mangan\n",
      "Processing Record 404 | warrington\n",
      "Processing Record 405 | saint-georges\n",
      "Processing Record 406 | klaksvik\n",
      "Processing Record 407 | havre-saint-pierre\n",
      "Processing Record 408 | aksarka\n",
      "Processing Record 409 | axim\n",
      "Processing Record 410 | leshukonskoye\n",
      "Processing Record 411 | westerlo\n",
      "Processing Record 412 | honiara\n",
      "Processing Record 413 | tura\n",
      "Processing Record 414 | farafangana\n",
      "Processing Record 415 | lagos\n",
      "Processing Record 416 | lima\n",
      "Processing Record 417 | djougou\n",
      "Processing Record 418 | yumen\n",
      "Processing Record 419 | asfi\n",
      "Processing Record 420 | lakeway\n",
      "City not found....skipping\n",
      "Processing Record 421 | harwich\n",
      "Processing Record 422 | xai-xai\n",
      "Processing Record 423 | agropoli\n",
      "Processing Record 424 | sioux lookout\n",
      "Processing Record 425 | nsanje\n",
      "Processing Record 426 | husavik\n",
      "Processing Record 427 | okakarara\n",
      "Processing Record 428 | tsiroanomandidy\n",
      "Processing Record 429 | kastamonu\n",
      "Processing Record 430 | santa catalina\n",
      "Processing Record 431 | daru\n",
      "Processing Record 432 | sumenep\n",
      "Processing Record 433 | beaverlodge\n",
      "Processing Record 434 | lesosibirsk\n",
      "Processing Record 435 | uga\n",
      "Processing Record 436 | okato\n",
      "Processing Record 437 | chara\n",
      "Processing Record 438 | aykhal\n",
      "Processing Record 439 | quang ngai\n",
      "City not found....skipping\n",
      "Processing Record 440 | bubaque\n",
      "Processing Record 441 | waitati\n",
      "Processing Record 442 | kopargaon\n",
      "Processing Record 443 | fairbanks\n",
      "Processing Record 444 | stykkisholmur\n",
      "Processing Record 445 | atar\n",
      "Processing Record 446 | orsta\n",
      "Processing Record 447 | luanda\n",
      "Processing Record 448 | dingle\n",
      "Processing Record 449 | ossora\n",
      "Processing Record 450 | kaili\n",
      "Processing Record 451 | plymouth\n",
      "Processing Record 452 | saint-joseph\n",
      "Processing Record 453 | moranbah\n",
      "City not found....skipping\n",
      "Processing Record 454 | veles\n",
      "Processing Record 455 | conceicao do araguaia\n",
      "City not found....skipping\n",
      "Processing Record 456 | siavonga\n",
      "Processing Record 457 | yarovoye\n",
      "Processing Record 458 | stryn\n",
      "Processing Record 459 | laguna\n",
      "Processing Record 460 | chern\n",
      "Processing Record 461 | buala\n",
      "Processing Record 462 | vredendal\n",
      "Processing Record 463 | banda aceh\n",
      "Processing Record 464 | todos santos\n",
      "Processing Record 465 | huarmey\n"
     ]
    },
    {
     "name": "stdout",
     "output_type": "stream",
     "text": [
      "City not found....skipping\n",
      "Processing Record 466 | iqaluit\n",
      "Processing Record 467 | kalmunai\n",
      "Processing Record 468 | hobyo\n",
      "Processing Record 469 | jijiga\n",
      "Processing Record 470 | quatre cocos\n",
      "Processing Record 471 | mackenzie\n",
      "Processing Record 472 | kwinana\n",
      "City not found....skipping\n",
      "City not found....skipping\n",
      "Processing Record 473 | antofagasta\n",
      "Processing Record 474 | mazatlan\n",
      "Processing Record 475 | sorong\n",
      "Processing Record 476 | luderitz\n",
      "Processing Record 477 | napa\n",
      "Processing Record 478 | la ronge\n",
      "Processing Record 479 | osypenko\n",
      "Processing Record 480 | bilokurakyne\n",
      "Processing Record 481 | lasa\n",
      "Processing Record 482 | omboue\n",
      "Processing Record 483 | oistins\n",
      "Processing Record 484 | mount isa\n",
      "Processing Record 485 | nakamura\n",
      "Processing Record 486 | lavrentiya\n",
      "Processing Record 487 | colares\n",
      "Processing Record 488 | camopi\n",
      "Processing Record 489 | namibe\n",
      "Processing Record 490 | hualmay\n",
      "Processing Record 491 | nizhnevartovsk\n",
      "Processing Record 492 | ustikolina\n",
      "Processing Record 493 | meulaboh\n",
      "Processing Record 494 | morro bay\n",
      "Processing Record 495 | khasan\n",
      "Processing Record 496 | jibuti\n",
      "Processing Record 497 | portland\n",
      "Processing Record 498 | puno\n",
      "Processing Record 499 | mungaa\n",
      "Processing Record 500 | bardiyah\n",
      "Processing Record 501 | vostok\n",
      "Processing Record 502 | itoman\n",
      "Processing Record 503 | roma\n",
      "Processing Record 504 | innisfail\n",
      "Processing Record 505 | seoul\n",
      "Processing Record 506 | puerto madryn\n",
      "Processing Record 507 | ponta delgada\n",
      "Processing Record 508 | changli\n",
      "Processing Record 509 | lerum\n",
      "Processing Record 510 | benghazi\n",
      "Processing Record 511 | shelburne\n",
      "Processing Record 512 | linjiang\n",
      "Processing Record 513 | lebork\n",
      "Processing Record 514 | prieska\n",
      "Processing Record 515 | ust-nera\n",
      "Processing Record 516 | brae\n",
      "Processing Record 517 | skrunda\n",
      "Processing Record 518 | hami\n",
      "Processing Record 519 | bombay\n",
      "Processing Record 520 | lorengau\n",
      "Processing Record 521 | kathmandu\n",
      "Processing Record 522 | ozark\n",
      "Processing Record 523 | saint-augustin\n",
      "Processing Record 524 | sedro-woolley\n",
      "Processing Record 525 | ejido\n",
      "Processing Record 526 | grindavik\n",
      "Processing Record 527 | mega\n",
      "Processing Record 528 | villazon\n",
      "Processing Record 529 | thinadhoo\n",
      "Processing Record 530 | jos\n",
      "Processing Record 531 | plyussa\n",
      "City not found....skipping\n",
      "Processing Record 532 | briancon\n",
      "Processing Record 533 | menongue\n",
      "Processing Record 534 | bridlington\n",
      "Processing Record 535 | karasuk\n",
      "Processing Record 536 | kieta\n",
      "Processing Record 537 | morgan city\n",
      "Processing Record 538 | inuvik\n",
      "Processing Record 539 | hella\n",
      "Processing Record 540 | derzhavinsk\n",
      "Processing Record 541 | juba\n",
      "Processing Record 542 | promyshlennaya\n",
      "Processing Record 543 | arlit\n",
      "Processing Record 544 | mogadishu\n",
      "Processing Record 545 | dhandhuka\n",
      "Processing Record 546 | ruidoso\n",
      "Processing Record 547 | chupaca\n",
      "Processing Record 548 | neenah\n",
      "Processing Record 549 | faya\n",
      "City not found....skipping\n",
      "Processing Record 550 | kihei\n",
      "Processing Record 551 | beihai\n",
      "Processing Record 552 | jalu\n",
      "Processing Record 553 | dawlatabad\n",
      "Processing Record 554 | ayagoz\n",
      "Processing Record 555 | punta\n",
      "Processing Record 556 | boende\n",
      "Processing Record 557 | eenhana\n",
      "Processing Record 558 | loukhi\n",
      "Processing Record 559 | iberia\n",
      "Processing Record 560 | ambilobe\n",
      "Processing Record 561 | bloomsburg\n",
      "Processing Record 562 | qasigiannguit\n",
      "Processing Record 563 | port angeles\n",
      "Processing Record 564 | xining\n",
      "Processing Record 565 | evensk\n",
      "Processing Record 566 | shaunavon\n",
      "Processing Record 567 | havoysund\n",
      "Processing Record 568 | neringa\n",
      "Processing Record 569 | mogzon\n",
      "Processing Record 570 | lazaro cardenas\n",
      "Processing Record 571 | marawi\n",
      "Processing Record 572 | thoen\n",
      "Processing Record 573 | saldanha\n",
      "Processing Record 574 | gberia fotombu\n",
      "Processing Record 575 | rantoul\n",
      "Processing Record 576 | dobra\n",
      "Processing Record 577 | mecca\n",
      "Processing Record 578 | quelimane\n",
      "Processing Record 579 | saint-francois\n",
      "Processing Record 580 | novobirilyussy\n",
      "Processing Record 581 | qianjiang\n",
      "Processing Record 582 | boguchany\n",
      "Processing Record 583 | nome\n",
      "Processing Record 584 | krasnomayskiy\n",
      "Processing Record 585 | kapit\n",
      "Processing Record 586 | moletai\n",
      "City not found....skipping\n",
      "Processing Record 587 | kefamenanu\n",
      "Processing Record 588 | wahiawa\n",
      "Processing Record 589 | constitucion\n",
      "Processing Record 590 | palauig\n",
      "Processing Record 591 | asau\n",
      "Processing Record 592 | nelson bay\n",
      "Processing Record 593 | galle\n",
      "Processing Record 594 | trairi\n",
      "Processing Record 595 | tamworth\n",
      "Processing Record 596 | kupang\n",
      "Processing Record 597 | wajir\n",
      "Processing Record 598 | marsa matruh\n",
      "Processing Record 599 | avera\n",
      "Processing Record 600 | hervey bay\n",
      "Processing Record 601 | rovaniemi\n",
      "Processing Record 602 | shahreza\n",
      "Processing Record 603 | trinidad\n",
      "Processing Record 604 | savannah bight\n",
      "Processing Record 605 | kashi\n",
      "Processing Record 606 | strathmore\n",
      "Processing Record 607 | tigil\n",
      "Processing Record 608 | belaya gora\n",
      "Processing Record 609 | sept-iles\n",
      "Processing Record 610 | jesus carranza\n",
      "----------------------------------------\n",
      "Data Retrieval Complete\n",
      "----------------------------------------\n"
     ]
    }
   ],
   "source": [
    "#url on where to pull the data\n",
    "url = \"http://api.openweathermap.org/data/2.5/weather?\"\n",
    "units = \"imperial\"\n",
    "\n",
    "# Build partial query URL\n",
    "query_url = f\"{url}appid={weather_api_key}&units={units}&q=\"\n",
    "# print(query_url)\n",
    "\n",
    "#create empty lists\n",
    "max_temp = []\n",
    "humidity = []\n",
    "cloudiness = []\n",
    "wind_speed = []\n",
    "country = []\n",
    "date = []\n",
    "lat = []\n",
    "lng = []\n",
    "town = []\n",
    "counter = 1\n",
    "\n",
    "\n",
    "print(\"Beginning Data Retrieval\")\n",
    "print(\"-\"*40)\n",
    "# Loop through the list of cities and perform a request for data on each\n",
    "\n",
    "for city in cities:\n",
    "    try:\n",
    "        response = requests.get(query_url + city).json()\n",
    "        max_temp.append(response['main']['temp_max'])\n",
    "        humidity.append(response['main']['humidity'])\n",
    "        cloudiness.append(response['clouds']['all'])\n",
    "        wind_speed.append(response['wind']['speed'])\n",
    "        country.append(response['sys']['country'])\n",
    "        date.append(response['dt'])\n",
    "        lat.append(response['coord']['lat'])\n",
    "        lng.append(response['coord']['lon'])\n",
    "        town.append(city)\n",
    "        print(f\"Processing Record {counter} | {city}\")\n",
    "        counter +=1      \n",
    "    except:\n",
    "        print(\"City not found....skipping\")\n",
    "              \n",
    "print(\"-\"*40)     \n",
    "print(\"Data Retrieval Complete\")\n",
    "print(\"-\"*40)               "
   ]
  },
  {
   "cell_type": "markdown",
   "metadata": {},
   "source": [
    "### Convert Raw Data to DataFrame\n",
    "* Export the city data into a .csv.\n",
    "* Display the DataFrame"
   ]
  },
  {
   "cell_type": "code",
   "execution_count": 24,
   "metadata": {},
   "outputs": [
    {
     "data": {
      "text/html": [
       "<div>\n",
       "<style scoped>\n",
       "    .dataframe tbody tr th:only-of-type {\n",
       "        vertical-align: middle;\n",
       "    }\n",
       "\n",
       "    .dataframe tbody tr th {\n",
       "        vertical-align: top;\n",
       "    }\n",
       "\n",
       "    .dataframe thead th {\n",
       "        text-align: right;\n",
       "    }\n",
       "</style>\n",
       "<table border=\"1\" class=\"dataframe\">\n",
       "  <thead>\n",
       "    <tr style=\"text-align: right;\">\n",
       "      <th></th>\n",
       "      <th>City</th>\n",
       "      <th>Lat</th>\n",
       "      <th>Lng</th>\n",
       "      <th>Max temp</th>\n",
       "      <th>Humidity</th>\n",
       "      <th>Cloudiness</th>\n",
       "      <th>Wind Speed</th>\n",
       "      <th>Country</th>\n",
       "      <th>Date</th>\n",
       "    </tr>\n",
       "  </thead>\n",
       "  <tbody>\n",
       "    <tr>\n",
       "      <th>0</th>\n",
       "      <td>geraldton</td>\n",
       "      <td>-28.77</td>\n",
       "      <td>114.60</td>\n",
       "      <td>78.80</td>\n",
       "      <td>39</td>\n",
       "      <td>0</td>\n",
       "      <td>14.99</td>\n",
       "      <td>AU</td>\n",
       "      <td>1607222860</td>\n",
       "    </tr>\n",
       "    <tr>\n",
       "      <th>1</th>\n",
       "      <td>jamestown</td>\n",
       "      <td>42.10</td>\n",
       "      <td>-79.24</td>\n",
       "      <td>30.00</td>\n",
       "      <td>92</td>\n",
       "      <td>90</td>\n",
       "      <td>12.75</td>\n",
       "      <td>US</td>\n",
       "      <td>1607222789</td>\n",
       "    </tr>\n",
       "    <tr>\n",
       "      <th>2</th>\n",
       "      <td>bengkulu</td>\n",
       "      <td>-3.80</td>\n",
       "      <td>102.27</td>\n",
       "      <td>84.11</td>\n",
       "      <td>64</td>\n",
       "      <td>100</td>\n",
       "      <td>5.41</td>\n",
       "      <td>ID</td>\n",
       "      <td>1607222860</td>\n",
       "    </tr>\n",
       "    <tr>\n",
       "      <th>3</th>\n",
       "      <td>puerto ayora</td>\n",
       "      <td>-0.74</td>\n",
       "      <td>-90.35</td>\n",
       "      <td>71.01</td>\n",
       "      <td>91</td>\n",
       "      <td>75</td>\n",
       "      <td>1.99</td>\n",
       "      <td>EC</td>\n",
       "      <td>1607222860</td>\n",
       "    </tr>\n",
       "    <tr>\n",
       "      <th>4</th>\n",
       "      <td>rikitea</td>\n",
       "      <td>-23.12</td>\n",
       "      <td>-134.97</td>\n",
       "      <td>77.43</td>\n",
       "      <td>78</td>\n",
       "      <td>3</td>\n",
       "      <td>15.08</td>\n",
       "      <td>PF</td>\n",
       "      <td>1607222860</td>\n",
       "    </tr>\n",
       "  </tbody>\n",
       "</table>\n",
       "</div>"
      ],
      "text/plain": [
       "           City    Lat     Lng  Max temp  Humidity  Cloudiness  Wind Speed  \\\n",
       "0     geraldton -28.77  114.60     78.80        39           0       14.99   \n",
       "1     jamestown  42.10  -79.24     30.00        92          90       12.75   \n",
       "2      bengkulu  -3.80  102.27     84.11        64         100        5.41   \n",
       "3  puerto ayora  -0.74  -90.35     71.01        91          75        1.99   \n",
       "4       rikitea -23.12 -134.97     77.43        78           3       15.08   \n",
       "\n",
       "  Country        Date  \n",
       "0      AU  1607222860  \n",
       "1      US  1607222789  \n",
       "2      ID  1607222860  \n",
       "3      EC  1607222860  \n",
       "4      PF  1607222860  "
      ]
     },
     "execution_count": 24,
     "metadata": {},
     "output_type": "execute_result"
    }
   ],
   "source": [
    "weather_dict = {\n",
    "    \"City\": town,\n",
    "    \"Lat\": lat,\n",
    "    \"Lng\": lng,\n",
    "    \"Max temp\": max_temp,\n",
    "    \"Humidity\": humidity,\n",
    "    \"Cloudiness\": cloudiness,\n",
    "    \"Wind Speed\": wind_speed,\n",
    "    \"Country\": country,\n",
    "    \"Date\": date\n",
    "}\n",
    "\n",
    "\n",
    "weather_data = pd.DataFrame(weather_dict)\n",
    "weather_data.to_csv(output_data_file)\n",
    "weather_data.head()"
   ]
  },
  {
   "cell_type": "code",
   "execution_count": 25,
   "metadata": {},
   "outputs": [
    {
     "data": {
      "text/html": [
       "<div>\n",
       "<style scoped>\n",
       "    .dataframe tbody tr th:only-of-type {\n",
       "        vertical-align: middle;\n",
       "    }\n",
       "\n",
       "    .dataframe tbody tr th {\n",
       "        vertical-align: top;\n",
       "    }\n",
       "\n",
       "    .dataframe thead th {\n",
       "        text-align: right;\n",
       "    }\n",
       "</style>\n",
       "<table border=\"1\" class=\"dataframe\">\n",
       "  <thead>\n",
       "    <tr style=\"text-align: right;\">\n",
       "      <th></th>\n",
       "      <th>Lat</th>\n",
       "      <th>Lng</th>\n",
       "      <th>Max temp</th>\n",
       "      <th>Humidity</th>\n",
       "      <th>Cloudiness</th>\n",
       "      <th>Wind Speed</th>\n",
       "      <th>Date</th>\n",
       "    </tr>\n",
       "  </thead>\n",
       "  <tbody>\n",
       "    <tr>\n",
       "      <th>count</th>\n",
       "      <td>610.000000</td>\n",
       "      <td>610.000000</td>\n",
       "      <td>610.000000</td>\n",
       "      <td>610.000000</td>\n",
       "      <td>610.000000</td>\n",
       "      <td>610.000000</td>\n",
       "      <td>6.100000e+02</td>\n",
       "    </tr>\n",
       "    <tr>\n",
       "      <th>mean</th>\n",
       "      <td>20.946918</td>\n",
       "      <td>19.693852</td>\n",
       "      <td>51.599721</td>\n",
       "      <td>74.963934</td>\n",
       "      <td>52.749180</td>\n",
       "      <td>7.598672</td>\n",
       "      <td>1.607223e+09</td>\n",
       "    </tr>\n",
       "    <tr>\n",
       "      <th>std</th>\n",
       "      <td>33.631045</td>\n",
       "      <td>90.247606</td>\n",
       "      <td>26.504172</td>\n",
       "      <td>18.941497</td>\n",
       "      <td>40.725535</td>\n",
       "      <td>5.922875</td>\n",
       "      <td>6.253336e+01</td>\n",
       "    </tr>\n",
       "    <tr>\n",
       "      <th>min</th>\n",
       "      <td>-54.800000</td>\n",
       "      <td>-179.170000</td>\n",
       "      <td>-30.750000</td>\n",
       "      <td>15.000000</td>\n",
       "      <td>0.000000</td>\n",
       "      <td>0.180000</td>\n",
       "      <td>1.607222e+09</td>\n",
       "    </tr>\n",
       "    <tr>\n",
       "      <th>25%</th>\n",
       "      <td>-7.335000</td>\n",
       "      <td>-58.642500</td>\n",
       "      <td>33.800000</td>\n",
       "      <td>65.250000</td>\n",
       "      <td>5.000000</td>\n",
       "      <td>3.360000</td>\n",
       "      <td>1.607223e+09</td>\n",
       "    </tr>\n",
       "    <tr>\n",
       "      <th>50%</th>\n",
       "      <td>24.950000</td>\n",
       "      <td>24.665000</td>\n",
       "      <td>57.100000</td>\n",
       "      <td>79.500000</td>\n",
       "      <td>59.500000</td>\n",
       "      <td>5.820000</td>\n",
       "      <td>1.607223e+09</td>\n",
       "    </tr>\n",
       "    <tr>\n",
       "      <th>75%</th>\n",
       "      <td>50.100000</td>\n",
       "      <td>97.387500</td>\n",
       "      <td>74.282500</td>\n",
       "      <td>89.000000</td>\n",
       "      <td>95.000000</td>\n",
       "      <td>10.267500</td>\n",
       "      <td>1.607223e+09</td>\n",
       "    </tr>\n",
       "    <tr>\n",
       "      <th>max</th>\n",
       "      <td>78.220000</td>\n",
       "      <td>179.320000</td>\n",
       "      <td>102.200000</td>\n",
       "      <td>100.000000</td>\n",
       "      <td>100.000000</td>\n",
       "      <td>39.150000</td>\n",
       "      <td>1.607223e+09</td>\n",
       "    </tr>\n",
       "  </tbody>\n",
       "</table>\n",
       "</div>"
      ],
      "text/plain": [
       "              Lat         Lng    Max temp    Humidity  Cloudiness  Wind Speed  \\\n",
       "count  610.000000  610.000000  610.000000  610.000000  610.000000  610.000000   \n",
       "mean    20.946918   19.693852   51.599721   74.963934   52.749180    7.598672   \n",
       "std     33.631045   90.247606   26.504172   18.941497   40.725535    5.922875   \n",
       "min    -54.800000 -179.170000  -30.750000   15.000000    0.000000    0.180000   \n",
       "25%     -7.335000  -58.642500   33.800000   65.250000    5.000000    3.360000   \n",
       "50%     24.950000   24.665000   57.100000   79.500000   59.500000    5.820000   \n",
       "75%     50.100000   97.387500   74.282500   89.000000   95.000000   10.267500   \n",
       "max     78.220000  179.320000  102.200000  100.000000  100.000000   39.150000   \n",
       "\n",
       "               Date  \n",
       "count  6.100000e+02  \n",
       "mean   1.607223e+09  \n",
       "std    6.253336e+01  \n",
       "min    1.607222e+09  \n",
       "25%    1.607223e+09  \n",
       "50%    1.607223e+09  \n",
       "75%    1.607223e+09  \n",
       "max    1.607223e+09  "
      ]
     },
     "execution_count": 25,
     "metadata": {},
     "output_type": "execute_result"
    }
   ],
   "source": [
    "weather_data.describe()"
   ]
  },
  {
   "cell_type": "markdown",
   "metadata": {},
   "source": [
    "## Inspect the data and remove the cities where the humidity > 100%.\n",
    "----\n",
    "Skip this step if there are no cities that have humidity > 100%. "
   ]
  },
  {
   "cell_type": "code",
   "execution_count": 26,
   "metadata": {},
   "outputs": [
    {
     "data": {
      "text/html": [
       "<div>\n",
       "<style scoped>\n",
       "    .dataframe tbody tr th:only-of-type {\n",
       "        vertical-align: middle;\n",
       "    }\n",
       "\n",
       "    .dataframe tbody tr th {\n",
       "        vertical-align: top;\n",
       "    }\n",
       "\n",
       "    .dataframe thead th {\n",
       "        text-align: right;\n",
       "    }\n",
       "</style>\n",
       "<table border=\"1\" class=\"dataframe\">\n",
       "  <thead>\n",
       "    <tr style=\"text-align: right;\">\n",
       "      <th></th>\n",
       "      <th>Lat</th>\n",
       "      <th>Lng</th>\n",
       "      <th>Max temp</th>\n",
       "      <th>Humidity</th>\n",
       "      <th>Cloudiness</th>\n",
       "      <th>Wind Speed</th>\n",
       "      <th>Date</th>\n",
       "    </tr>\n",
       "  </thead>\n",
       "  <tbody>\n",
       "    <tr>\n",
       "      <th>count</th>\n",
       "      <td>610.000000</td>\n",
       "      <td>610.000000</td>\n",
       "      <td>610.000000</td>\n",
       "      <td>610.000000</td>\n",
       "      <td>610.000000</td>\n",
       "      <td>610.000000</td>\n",
       "      <td>6.100000e+02</td>\n",
       "    </tr>\n",
       "    <tr>\n",
       "      <th>mean</th>\n",
       "      <td>20.946918</td>\n",
       "      <td>19.693852</td>\n",
       "      <td>51.599721</td>\n",
       "      <td>74.963934</td>\n",
       "      <td>52.749180</td>\n",
       "      <td>7.598672</td>\n",
       "      <td>1.607223e+09</td>\n",
       "    </tr>\n",
       "    <tr>\n",
       "      <th>std</th>\n",
       "      <td>33.631045</td>\n",
       "      <td>90.247606</td>\n",
       "      <td>26.504172</td>\n",
       "      <td>18.941497</td>\n",
       "      <td>40.725535</td>\n",
       "      <td>5.922875</td>\n",
       "      <td>6.253336e+01</td>\n",
       "    </tr>\n",
       "    <tr>\n",
       "      <th>min</th>\n",
       "      <td>-54.800000</td>\n",
       "      <td>-179.170000</td>\n",
       "      <td>-30.750000</td>\n",
       "      <td>15.000000</td>\n",
       "      <td>0.000000</td>\n",
       "      <td>0.180000</td>\n",
       "      <td>1.607222e+09</td>\n",
       "    </tr>\n",
       "    <tr>\n",
       "      <th>25%</th>\n",
       "      <td>-7.335000</td>\n",
       "      <td>-58.642500</td>\n",
       "      <td>33.800000</td>\n",
       "      <td>65.250000</td>\n",
       "      <td>5.000000</td>\n",
       "      <td>3.360000</td>\n",
       "      <td>1.607223e+09</td>\n",
       "    </tr>\n",
       "    <tr>\n",
       "      <th>50%</th>\n",
       "      <td>24.950000</td>\n",
       "      <td>24.665000</td>\n",
       "      <td>57.100000</td>\n",
       "      <td>79.500000</td>\n",
       "      <td>59.500000</td>\n",
       "      <td>5.820000</td>\n",
       "      <td>1.607223e+09</td>\n",
       "    </tr>\n",
       "    <tr>\n",
       "      <th>75%</th>\n",
       "      <td>50.100000</td>\n",
       "      <td>97.387500</td>\n",
       "      <td>74.282500</td>\n",
       "      <td>89.000000</td>\n",
       "      <td>95.000000</td>\n",
       "      <td>10.267500</td>\n",
       "      <td>1.607223e+09</td>\n",
       "    </tr>\n",
       "    <tr>\n",
       "      <th>max</th>\n",
       "      <td>78.220000</td>\n",
       "      <td>179.320000</td>\n",
       "      <td>102.200000</td>\n",
       "      <td>100.000000</td>\n",
       "      <td>100.000000</td>\n",
       "      <td>39.150000</td>\n",
       "      <td>1.607223e+09</td>\n",
       "    </tr>\n",
       "  </tbody>\n",
       "</table>\n",
       "</div>"
      ],
      "text/plain": [
       "              Lat         Lng    Max temp    Humidity  Cloudiness  Wind Speed  \\\n",
       "count  610.000000  610.000000  610.000000  610.000000  610.000000  610.000000   \n",
       "mean    20.946918   19.693852   51.599721   74.963934   52.749180    7.598672   \n",
       "std     33.631045   90.247606   26.504172   18.941497   40.725535    5.922875   \n",
       "min    -54.800000 -179.170000  -30.750000   15.000000    0.000000    0.180000   \n",
       "25%     -7.335000  -58.642500   33.800000   65.250000    5.000000    3.360000   \n",
       "50%     24.950000   24.665000   57.100000   79.500000   59.500000    5.820000   \n",
       "75%     50.100000   97.387500   74.282500   89.000000   95.000000   10.267500   \n",
       "max     78.220000  179.320000  102.200000  100.000000  100.000000   39.150000   \n",
       "\n",
       "               Date  \n",
       "count  6.100000e+02  \n",
       "mean   1.607223e+09  \n",
       "std    6.253336e+01  \n",
       "min    1.607222e+09  \n",
       "25%    1.607223e+09  \n",
       "50%    1.607223e+09  \n",
       "75%    1.607223e+09  \n",
       "max    1.607223e+09  "
      ]
     },
     "execution_count": 26,
     "metadata": {},
     "output_type": "execute_result"
    }
   ],
   "source": [
    "dry_cities = weather_data[weather_data[\"Humidity\"]<=100]\n",
    "dry_cities.describe()"
   ]
  },
  {
   "cell_type": "code",
   "execution_count": 33,
   "metadata": {},
   "outputs": [
    {
     "name": "stdout",
     "output_type": "stream",
     "text": [
      "There are 0 cities with over 100% humidity\n"
     ]
    }
   ],
   "source": [
    "#  Get the indices of cities that have humidity over 100%.\n",
    "\n",
    "high_humid = weather_data.index[weather_data[\"Humidity\"]>100].tolist()\n",
    "\n",
    "print(f\"There are {len(high_humid)} cities with over 100% humidity\")"
   ]
  },
  {
   "cell_type": "code",
   "execution_count": 34,
   "metadata": {},
   "outputs": [
    {
     "data": {
      "text/html": [
       "<div>\n",
       "<style scoped>\n",
       "    .dataframe tbody tr th:only-of-type {\n",
       "        vertical-align: middle;\n",
       "    }\n",
       "\n",
       "    .dataframe tbody tr th {\n",
       "        vertical-align: top;\n",
       "    }\n",
       "\n",
       "    .dataframe thead th {\n",
       "        text-align: right;\n",
       "    }\n",
       "</style>\n",
       "<table border=\"1\" class=\"dataframe\">\n",
       "  <thead>\n",
       "    <tr style=\"text-align: right;\">\n",
       "      <th></th>\n",
       "      <th>Lat</th>\n",
       "      <th>Lng</th>\n",
       "      <th>Max temp</th>\n",
       "      <th>Humidity</th>\n",
       "      <th>Cloudiness</th>\n",
       "      <th>Wind Speed</th>\n",
       "      <th>Date</th>\n",
       "    </tr>\n",
       "  </thead>\n",
       "  <tbody>\n",
       "    <tr>\n",
       "      <th>count</th>\n",
       "      <td>610.000000</td>\n",
       "      <td>610.000000</td>\n",
       "      <td>610.000000</td>\n",
       "      <td>610.000000</td>\n",
       "      <td>610.000000</td>\n",
       "      <td>610.000000</td>\n",
       "      <td>6.100000e+02</td>\n",
       "    </tr>\n",
       "    <tr>\n",
       "      <th>mean</th>\n",
       "      <td>20.946918</td>\n",
       "      <td>19.693852</td>\n",
       "      <td>51.599721</td>\n",
       "      <td>74.963934</td>\n",
       "      <td>52.749180</td>\n",
       "      <td>7.598672</td>\n",
       "      <td>1.607223e+09</td>\n",
       "    </tr>\n",
       "    <tr>\n",
       "      <th>std</th>\n",
       "      <td>33.631045</td>\n",
       "      <td>90.247606</td>\n",
       "      <td>26.504172</td>\n",
       "      <td>18.941497</td>\n",
       "      <td>40.725535</td>\n",
       "      <td>5.922875</td>\n",
       "      <td>6.253336e+01</td>\n",
       "    </tr>\n",
       "    <tr>\n",
       "      <th>min</th>\n",
       "      <td>-54.800000</td>\n",
       "      <td>-179.170000</td>\n",
       "      <td>-30.750000</td>\n",
       "      <td>15.000000</td>\n",
       "      <td>0.000000</td>\n",
       "      <td>0.180000</td>\n",
       "      <td>1.607222e+09</td>\n",
       "    </tr>\n",
       "    <tr>\n",
       "      <th>25%</th>\n",
       "      <td>-7.335000</td>\n",
       "      <td>-58.642500</td>\n",
       "      <td>33.800000</td>\n",
       "      <td>65.250000</td>\n",
       "      <td>5.000000</td>\n",
       "      <td>3.360000</td>\n",
       "      <td>1.607223e+09</td>\n",
       "    </tr>\n",
       "    <tr>\n",
       "      <th>50%</th>\n",
       "      <td>24.950000</td>\n",
       "      <td>24.665000</td>\n",
       "      <td>57.100000</td>\n",
       "      <td>79.500000</td>\n",
       "      <td>59.500000</td>\n",
       "      <td>5.820000</td>\n",
       "      <td>1.607223e+09</td>\n",
       "    </tr>\n",
       "    <tr>\n",
       "      <th>75%</th>\n",
       "      <td>50.100000</td>\n",
       "      <td>97.387500</td>\n",
       "      <td>74.282500</td>\n",
       "      <td>89.000000</td>\n",
       "      <td>95.000000</td>\n",
       "      <td>10.267500</td>\n",
       "      <td>1.607223e+09</td>\n",
       "    </tr>\n",
       "    <tr>\n",
       "      <th>max</th>\n",
       "      <td>78.220000</td>\n",
       "      <td>179.320000</td>\n",
       "      <td>102.200000</td>\n",
       "      <td>100.000000</td>\n",
       "      <td>100.000000</td>\n",
       "      <td>39.150000</td>\n",
       "      <td>1.607223e+09</td>\n",
       "    </tr>\n",
       "  </tbody>\n",
       "</table>\n",
       "</div>"
      ],
      "text/plain": [
       "              Lat         Lng    Max temp    Humidity  Cloudiness  Wind Speed  \\\n",
       "count  610.000000  610.000000  610.000000  610.000000  610.000000  610.000000   \n",
       "mean    20.946918   19.693852   51.599721   74.963934   52.749180    7.598672   \n",
       "std     33.631045   90.247606   26.504172   18.941497   40.725535    5.922875   \n",
       "min    -54.800000 -179.170000  -30.750000   15.000000    0.000000    0.180000   \n",
       "25%     -7.335000  -58.642500   33.800000   65.250000    5.000000    3.360000   \n",
       "50%     24.950000   24.665000   57.100000   79.500000   59.500000    5.820000   \n",
       "75%     50.100000   97.387500   74.282500   89.000000   95.000000   10.267500   \n",
       "max     78.220000  179.320000  102.200000  100.000000  100.000000   39.150000   \n",
       "\n",
       "               Date  \n",
       "count  6.100000e+02  \n",
       "mean   1.607223e+09  \n",
       "std    6.253336e+01  \n",
       "min    1.607222e+09  \n",
       "25%    1.607223e+09  \n",
       "50%    1.607223e+09  \n",
       "75%    1.607223e+09  \n",
       "max    1.607223e+09  "
      ]
     },
     "execution_count": 34,
     "metadata": {},
     "output_type": "execute_result"
    }
   ],
   "source": [
    "# Make a new DataFrame equal to the city data to drop all humidity outliers by index.\n",
    "# Passing \"inplace=False\" will make a copy of the city_data DataFrame, which we call \"clean_city_data\".\n",
    "\n",
    "clean_city_data = weather_data.drop(labels=high_humid,inplace=False)\n",
    "clean_city_data.head()\n",
    "clean_city_data.describe()"
   ]
  },
  {
   "cell_type": "code",
   "execution_count": null,
   "metadata": {},
   "outputs": [],
   "source": [
    "\n"
   ]
  },
  {
   "cell_type": "markdown",
   "metadata": {},
   "source": [
    "## Plotting the Data\n",
    "* Use proper labeling of the plots using plot titles (including date of analysis) and axes labels.\n",
    "* Save the plotted figures as .pngs."
   ]
  },
  {
   "cell_type": "markdown",
   "metadata": {},
   "source": [
    "## Latitude vs. Temperature Plot"
   ]
  },
  {
   "cell_type": "code",
   "execution_count": 41,
   "metadata": {
    "scrolled": true
   },
   "outputs": [
    {
     "data": {
      "image/png": "[encoded data removed]",
      "text/plain": [
       "<Figure size 432x288 with 1 Axes>"
      ]
     },
     "metadata": {
      "needs_background": "light"
     },
     "output_type": "display_data"
    }
   ],
   "source": [
    "x_values = clean_city_data['Lat']\n",
    "y_values = clean_city_data['Max temp']\n",
    "plt.scatter(x_values,y_values, facecolors='coral', edgecolors='black')\n",
    "plt.xlabel('Latitude')\n",
    "plt.ylabel('Max Temp in (F)')\n",
    "plt.title('City Lat vs Max Temp (12/5/20)')\n",
    "plt.grid()\n",
    "plt.savefig(\"../output_data/lat_vs_temp.png\")\n",
    "plt.show()\n"
   ]
  },
  {
   "cell_type": "markdown",
   "metadata": {},
   "source": [
    "## Latitude vs. Humidity Plot"
   ]
  },
  {
   "cell_type": "code",
   "execution_count": 42,
   "metadata": {},
   "outputs": [
    {
     "data": {
      "image/png": "[encoded data removed]",
      "text/plain": [
       "<Figure size 432x288 with 1 Axes>"
      ]
     },
     "metadata": {
      "needs_background": "light"
     },
     "output_type": "display_data"
    }
   ],
   "source": [
    "x_values = clean_city_data['Lat']\n",
    "y_values = clean_city_data['Humidity']\n",
    "plt.scatter(x_values,y_values, facecolors='coral', edgecolors='black')\n",
    "plt.xlabel('Latitude')\n",
    "plt.ylabel('Humidity (%)')\n",
    "plt.title('City Lat vs Humidity (12/5/20)')\n",
    "plt.grid()\n",
    "plt.savefig(\"../output_data/lat_vs_humidity.png\")\n",
    "plt.show()\n"
   ]
  },
  {
   "cell_type": "markdown",
   "metadata": {},
   "source": [
    "## Latitude vs. Cloudiness Plot"
   ]
  },
  {
   "cell_type": "code",
   "execution_count": 43,
   "metadata": {},
   "outputs": [
    {
     "data": {
      "image/png": "[encoded data removed]",
      "text/plain": [
       "<Figure size 432x288 with 1 Axes>"
      ]
     },
     "metadata": {
      "needs_background": "light"
     },
     "output_type": "display_data"
    }
   ],
   "source": [
    "x_values = clean_city_data['Lat']\n",
    "y_values = clean_city_data['Cloudiness']\n",
    "plt.scatter(x_values,y_values, facecolors='coral', edgecolors='black')\n",
    "plt.xlabel('Latitude')\n",
    "plt.ylabel('Cloudiness (%)')\n",
    "plt.title('City Lat vs Cloudiness (12/5/20)')\n",
    "plt.grid()\n",
    "plt.savefig(\"../output_data/lat_vs_cloudiness.png\")\n",
    "plt.show()\n"
   ]
  },
  {
   "cell_type": "markdown",
   "metadata": {},
   "source": [
    "## Latitude vs. Wind Speed Plot"
   ]
  },
  {
   "cell_type": "code",
   "execution_count": 44,
   "metadata": {},
   "outputs": [
    {
     "data": {
      "image/png": "[encoded data removed]",
      "text/plain": [
       "<Figure size 432x288 with 1 Axes>"
      ]
     },
     "metadata": {
      "needs_background": "light"
     },
     "output_type": "display_data"
    }
   ],
   "source": [
    "x_values = clean_city_data['Lat']\n",
    "y_values = clean_city_data['Wind Speed']\n",
    "plt.scatter(x_values,y_values, facecolors='coral', edgecolors='black')\n",
    "plt.xlabel('Latitude')\n",
    "plt.ylabel('Wind Speed (mph)')\n",
    "plt.title('City Lat vs Wind Speed (12/5/20)')\n",
    "plt.grid()\n",
    "plt.savefig(\"../output_data/lat_vs_wind_speed.png\")\n",
    "plt.show()\n"
   ]
  },
  {
   "cell_type": "markdown",
   "metadata": {},
   "source": [
    "## Linear Regression"
   ]
  },
  {
   "cell_type": "code",
   "execution_count": 53,
   "metadata": {},
   "outputs": [
    {
     "name": "stdout",
     "output_type": "stream",
     "text": [
      "There are 426 cities in the northern hemisphere\n",
      "There are 184 cities in the southern hemisphere\n"
     ]
    }
   ],
   "source": [
    "northern_df = clean_city_data[clean_city_data[\"Lat\"]>0]\n",
    "\n",
    "southern_df = clean_city_data[clean_city_data[\"Lat\"]<0]\n",
    "\n",
    "print(f\"There are {northern_df.City.count()} cities in the northern hemisphere\")\n",
    "print(f\"There are {southern_df.City.count()} cities in the southern hemisphere\")"
   ]
  },
  {
   "cell_type": "markdown",
   "metadata": {},
   "source": [
    "####  Northern Hemisphere - Max Temp vs. Latitude Linear Regression"
   ]
  },
  {
   "cell_type": "code",
   "execution_count": 59,
   "metadata": {},
   "outputs": [
    {
     "name": "stdout",
     "output_type": "stream",
     "text": [
      "The r-squared is: 0.7362340607773841\n"
     ]
    },
    {
     "data": {
      "image/png": "[encoded data removed]",
      "text/plain": [
       "<Figure size 432x288 with 1 Axes>"
      ]
     },
     "metadata": {
      "needs_background": "light"
     },
     "output_type": "display_data"
    }
   ],
   "source": [
    "x_values = northern_df['Lat']\n",
    "y_values = northern_df['Max temp']\n",
    "(slope, intercept, rvalue, pvalue, stderr) = linregress(x_values, y_values)\n",
    "regress_values = x_values * slope + intercept\n",
    "line_eq = \"y = \" + str(round(slope,2)) + \"x + \" + str(round(intercept,2))\n",
    "plt.scatter(x_values,y_values, facecolors='aquamarine', edgecolors='black')\n",
    "plt.plot(x_values,regress_values,\"r-\")\n",
    "plt.annotate(line_eq,(6,0),fontsize=15,color=\"blue\")\n",
    "plt.xlabel('Latitude')\n",
    "plt.ylabel('Max Temp')\n",
    "print(f\"The r-squared is: {rvalue**2}\")\n",
    "plt.show()"
   ]
  },
  {
   "cell_type": "markdown",
   "metadata": {},
   "source": [
    "####  Southern Hemisphere - Max Temp vs. Latitude Linear Regression"
   ]
  },
  {
   "cell_type": "code",
   "execution_count": 61,
   "metadata": {},
   "outputs": [
    {
     "name": "stdout",
     "output_type": "stream",
     "text": [
      "The r-squared is: 0.3025092428839063\n"
     ]
    },
    {
     "data": {
      "image/png": "[encoded data removed]",
      "text/plain": [
       "<Figure size 432x288 with 1 Axes>"
      ]
     },
     "metadata": {
      "needs_background": "light"
     },
     "output_type": "display_data"
    }
   ],
   "source": [
    "x_values = southern_df['Lat']\n",
    "y_values = southern_df['Max temp']\n",
    "(slope, intercept, rvalue, pvalue, stderr) = linregress(x_values, y_values)\n",
    "regress_values = x_values * slope + intercept\n",
    "line_eq = \"y = \" + str(round(slope,2)) + \"x + \" + str(round(intercept,2))\n",
    "plt.scatter(x_values,y_values, facecolors='wheat', edgecolors='black')\n",
    "plt.plot(x_values,regress_values,\"r-\")\n",
    "plt.annotate(line_eq,(-50,90),fontsize=15,color=\"blue\")\n",
    "plt.xlabel('Latitude')\n",
    "plt.ylabel('Max Temp')\n",
    "print(f\"The r-squared is: {rvalue**2}\")\n",
    "plt.show()"
   ]
  },
  {
   "cell_type": "markdown",
   "metadata": {},
   "source": [
    "####  Northern Hemisphere - Humidity (%) vs. Latitude Linear Regression"
   ]
  },
  {
   "cell_type": "code",
   "execution_count": 27,
   "metadata": {},
   "outputs": [
    {
     "name": "stdout",
     "output_type": "stream",
     "text": [
      "The r-value is: 0.000543987878808455\n"
     ]
    },
    {
     "data": {
      "image/png": "[encoded data removed]",
      "text/plain": [
       "<Figure size 432x288 with 1 Axes>"
      ]
     },
     "metadata": {
      "needs_background": "light"
     },
     "output_type": "display_data"
    }
   ],
   "source": []
  },
  {
   "cell_type": "markdown",
   "metadata": {},
   "source": [
    "####  Southern Hemisphere - Humidity (%) vs. Latitude Linear Regression"
   ]
  },
  {
   "cell_type": "code",
   "execution_count": 28,
   "metadata": {},
   "outputs": [
    {
     "name": "stdout",
     "output_type": "stream",
     "text": [
      "The r-value is: 0.014985174297345524\n"
     ]
    },
    {
     "data": {
      "image/png": "[encoded data removed]",
      "text/plain": [
       "<Figure size 432x288 with 1 Axes>"
      ]
     },
     "metadata": {
      "needs_background": "light"
     },
     "output_type": "display_data"
    }
   ],
   "source": []
  },
  {
   "cell_type": "markdown",
   "metadata": {},
   "source": [
    "####  Northern Hemisphere - Cloudiness (%) vs. Latitude Linear Regression"
   ]
  },
  {
   "cell_type": "code",
   "execution_count": 29,
   "metadata": {},
   "outputs": [
    {
     "name": "stdout",
     "output_type": "stream",
     "text": [
      "The r-value is: 0.0020898727664228514\n"
     ]
    },
    {
     "data": {
      "image/png": "[encoded data removed]",
      "text/plain": [
       "<Figure size 432x288 with 1 Axes>"
      ]
     },
     "metadata": {
      "needs_background": "light"
     },
     "output_type": "display_data"
    }
   ],
   "source": []
  },
  {
   "cell_type": "markdown",
   "metadata": {},
   "source": [
    "####  Southern Hemisphere - Cloudiness (%) vs. Latitude Linear Regression"
   ]
  },
  {
   "cell_type": "code",
   "execution_count": 30,
   "metadata": {},
   "outputs": [
    {
     "name": "stdout",
     "output_type": "stream",
     "text": [
      "The r-value is: 0.0035263772085582894\n"
     ]
    },
    {
     "data": {
      "image/png": "[encoded data removed]",
      "text/plain": [
       "<Figure size 432x288 with 1 Axes>"
      ]
     },
     "metadata": {
      "needs_background": "light"
     },
     "output_type": "display_data"
    }
   ],
   "source": []
  },
  {
   "cell_type": "markdown",
   "metadata": {},
   "source": [
    "####  Northern Hemisphere - Wind Speed (mph) vs. Latitude Linear Regression"
   ]
  },
  {
   "cell_type": "code",
   "execution_count": 31,
   "metadata": {},
   "outputs": [
    {
     "name": "stdout",
     "output_type": "stream",
     "text": [
      "The r-value is: 0.04019723576144484\n"
     ]
    },
    {
     "data": {
      "image/png": "[encoded data removed]",
      "text/plain": [
       "<Figure size 432x288 with 1 Axes>"
      ]
     },
     "metadata": {
      "needs_background": "light"
     },
     "output_type": "display_data"
    }
   ],
   "source": []
  },
  {
   "cell_type": "markdown",
   "metadata": {},
   "source": [
    "####  Southern Hemisphere - Wind Speed (mph) vs. Latitude Linear Regression"
   ]
  },
  {
   "cell_type": "code",
   "execution_count": 32,
   "metadata": {},
   "outputs": [
    {
     "name": "stdout",
     "output_type": "stream",
     "text": [
      "The r-value is: 0.017128274759839232\n"
     ]
    },
    {
     "data": {
      "image/png": "[encoded data removed]",
      "text/plain": [
       "<Figure size 432x288 with 1 Axes>"
      ]
     },
     "metadata": {
      "needs_background": "light"
     },
     "output_type": "display_data"
    }
   ],
   "source": []
  },
  {
   "cell_type": "code",
   "execution_count": null,
   "metadata": {},
   "outputs": [],
   "source": []
  }
 ],
 "metadata": {
  "anaconda-cloud": {},
  "kernel_info": {
   "name": "python3"
  },
  "kernelspec": {
   "display_name": "Python 3",
   "language": "python",
   "name": "python3"
  },
  "language_info": {
   "codemirror_mode": {
    "name": "ipython",
    "version": 3
   },
   "file_extension": ".py",
   "mimetype": "text/x-python",
   "name": "python",
   "nbconvert_exporter": "python",
   "pygments_lexer": "ipython3",
   "version": "3.8.3"
  },
  "latex_envs": {
   "LaTeX_envs_menu_present": true,
   "autoclose": false,
   "autocomplete": true,
   "bibliofile": "biblio.bib",
   "cite_by": "apalike",
   "current_citInitial": 1,
   "eqLabelWithNumbers": true,
   "eqNumInitial": 1,
   "hotkeys": {
    "equation": "Ctrl-E",
    "itemize": "Ctrl-I"
   },
   "labels_anchors": false,
   "latex_user_defs": false,
   "report_style_numbering": false,
   "user_envs_cfg": false
  },
  "nteract": {
   "version": "0.12.3"
  }
 },
 "nbformat": 4,
 "nbformat_minor": 2
}
